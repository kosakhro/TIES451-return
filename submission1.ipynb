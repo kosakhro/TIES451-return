{
 "cells": [
  {
   "cell_type": "markdown",
   "metadata": {},
   "source": [
    "# TIES451 course. Programming assignment 1 #"
   ]
  },
  {
   "cell_type": "markdown",
   "metadata": {},
   "source": [
    "Konstantin Sakharovskiy. Sources used:\n",
    " - Lecture slides\n",
    " - Recommended papers\n",
    " - Several open-source GA implementations"
   ]
  },
  {
   "cell_type": "markdown",
   "metadata": {},
   "source": [
    "## Task1 binary-coded Genetic Algorithm for continuous function ##"
   ]
  },
  {
   "cell_type": "markdown",
   "metadata": {},
   "source": [
    "**Step 1.** - make all required imports, defining functions and constraints "
   ]
  },
  {
   "cell_type": "code",
   "execution_count": 1,
   "metadata": {},
   "outputs": [],
   "source": [
    "# - random integer to generate initial population and select genes in crossover\n",
    "# - random real to handle mutation and crossover probability\n",
    "\n",
    "from numpy.random import randint\n",
    "from numpy.random import rand\n",
    "\n",
    "# objective function\n",
    "def f(x):\n",
    "    return x[0] + x[1] - 2 * x[0] ** 2 - x[1] ** 2 + (x[0] * x[1])\n",
    "\n",
    "#  Rosenbrock function for testing the algorithm, (optima = 0 at [1,1])\n",
    "def rosenbrock(x):\n",
    "    return 100 * ((x[1] - x[0] ** 2)) ** 2 + (1 - x[0]) ** 2 \n",
    "\n",
    "# define range for input\n",
    "OBJ_BOUNDS = [[1.0, 5.0], [1.0, 5.0]]\n",
    "ROSEN_BOUNDS = [[-10.0, 10.0], [-10.0, 10.0]]\n",
    "\n",
    "# define the total iterations\n",
    "OBJ_ITER = 50\n",
    "ROSEN_ITER = 5000 # It has been determined by experience that this function requires more iterations\n",
    "\n",
    "# bits per variable\n",
    "OBJ_BITS = 8\n",
    "ROSEN_BITS = 16\n",
    "\n",
    "# define the population size\n",
    "OBJ_POP = 10\n",
    "ROSEN_POP = 20\n",
    "\n",
    "# crossover rate\n",
    "OBJ_CROSS = 0.8\n",
    "ROSEN_CROSS = 0.8\n",
    "\n",
    "# mutation rate\n",
    "OBJ_MUT = 0.06\n",
    "ROSEN_MUT = 0.06"
   ]
  },
  {
   "cell_type": "markdown",
   "metadata": {},
   "source": [
    "**Step 2.** Given that the optimizing functions are in real numbers and the algorithm\n",
    "encodes in binary, we need an auxiliary decoding function (not needed in differential evolution)"
   ]
  },
  {
   "cell_type": "code",
   "execution_count": 2,
   "metadata": {},
   "outputs": [],
   "source": [
    "def decode(bounds, n_bits, bitstring):\n",
    "    decoded = list()\n",
    "    largest = 2**n_bits\n",
    "    for i in range(len(bounds)):\n",
    "        # extract the substring\n",
    "        start, end = i * n_bits, (i * n_bits)+n_bits\n",
    "        substring = bitstring[start:end]\n",
    "        # convert bitstring to a string of chars\n",
    "        chars = ''.join([str(s) for s in substring])\n",
    "        # convert string to integer\n",
    "        integer = int(chars, 2)\n",
    "        # scale integer to desired range\n",
    "        value = bounds[i][0] + (integer/largest) * (bounds[i][1] - bounds[i][0])\n",
    "        # store\n",
    "        decoded.append(value)\n",
    "    return decoded\n"
   ]
  },
  {
   "cell_type": "markdown",
   "metadata": {},
   "source": [
    "\n",
    "**Step 3.** code all necessary steps in the Evolutionary Generational Cycle:\n",
    "\n",
    "Selection -> Crossover -> Mutation -> Evaluation (replacement)"
   ]
  },
  {
   "cell_type": "code",
   "execution_count": 3,
   "metadata": {},
   "outputs": [],
   "source": [
    "def evaluation(gen, pop, decoded, scores, best, best_eval):\n",
    "    for i in range(len(pop)):\n",
    "        if scores[i] < best_eval:\n",
    "            best, best_eval = pop[i], scores[i]\n",
    "            print(\"- At the generation %d, obtained new best solution f(%s) = %f\" % (gen,  decoded[i], scores[i]))\n",
    "    return best, best_eval"
   ]
  },
  {
   "cell_type": "code",
   "execution_count": 4,
   "metadata": {},
   "outputs": [],
   "source": [
    "def selection(pop, scores):\n",
    "    # first random selection\n",
    "    selection_ix = randint(len(pop))\n",
    "    for ix in randint(0, len(pop), 2):\n",
    "        # check if better (e.g. perform a tournament)\n",
    "        if scores[ix] < scores[selection_ix]:\n",
    "            selection_ix = ix\n",
    "    return pop[selection_ix]"
   ]
  },
  {
   "cell_type": "code",
   "execution_count": 5,
   "metadata": {},
   "outputs": [],
   "source": [
    "def crossover(p1, p2, r_cross):\n",
    "    # children are copies of parents by default\n",
    "    c1, c2 = p1.copy(), p2.copy()\n",
    "    # check for recombination\n",
    "    if rand() < r_cross:\n",
    "        # select crossover point that is not on the end of the string\n",
    "        pt = randint(1, len(p1)-2)\n",
    "        # perform crossover\n",
    "        c1 = p1[:pt] + p2[pt:]\n",
    "        c2 = p2[:pt] + p1[pt:]\n",
    "    return [c1, c2]"
   ]
  },
  {
   "cell_type": "code",
   "execution_count": 6,
   "metadata": {},
   "outputs": [],
   "source": [
    "def mutation(bitstring, r_mut):\n",
    "    for i in range(len(bitstring)):\n",
    "        # check for a mutation\n",
    "        if rand() < r_mut:\n",
    "            # flip the bit\n",
    "            bitstring[i] = 1 - bitstring[i]"
   ]
  },
  {
   "cell_type": "markdown",
   "metadata": {},
   "source": [
    "**Step 4.** combine all in binary-coded ganetic algoritm"
   ]
  },
  {
   "cell_type": "code",
   "execution_count": 7,
   "metadata": {},
   "outputs": [],
   "source": [
    "def binary_coded_GA(f, bounds, n_bits, n_iter, n_pop, r_cross, r_mut):\n",
    "    \n",
    "    # initial population of random bitstring\n",
    "    pop = [randint(0, 2, n_bits*len(bounds)).tolist() for _ in range(n_pop)]\n",
    "    \n",
    "\n",
    "    # keep track of best solution\n",
    "    best, best_eval = 0, f(decode(bounds, n_bits, pop[0]))\n",
    "    \n",
    "    # enumerate generations\n",
    "    for gen in range(n_iter):\n",
    "        # decode population\n",
    "        decoded = [decode(bounds, n_bits, p) for p in pop]\n",
    "        # evaluate all candidates in the population\n",
    "        scores = [f(d) for d in decoded]\n",
    "        \n",
    "        # check for new best solution\n",
    "        best, best_eval = evaluation(gen, pop, decoded, scores, best, best_eval)\n",
    "        \n",
    "\n",
    "        # select parents\n",
    "        selected = [selection(pop, scores) for _ in range(n_pop)]\n",
    "        # create the next generation\n",
    "        children = list()\n",
    "        for i in range(0, n_pop, 2):\n",
    "            # get selected parents in pairs\n",
    "            p1, p2 = selected[i], selected[i+1]\n",
    "            # crossover and mutation\n",
    "            for c in crossover(p1, p2, r_cross):\n",
    "                # mutation\n",
    "                mutation(c, r_mut)\n",
    "                # store for next generation\n",
    "                children.append(c)\n",
    "        # replace population\n",
    "        pop = children\n",
    "    return [best, best_eval]\n"
   ]
  },
  {
   "cell_type": "markdown",
   "metadata": {},
   "source": [
    "**Step 5.**  run the test Rosenbrock function search to check algorithm's reliability"
   ]
  },
  {
   "cell_type": "code",
   "execution_count": 8,
   "metadata": {},
   "outputs": [
    {
     "name": "stdout",
     "output_type": "stream",
     "text": [
      "- At the generation 0, obtained new best solution f([-0.02227783203125, 7.35443115234375]) = 5409.080831\n",
      "- At the generation 0, obtained new best solution f([-0.274658203125, -5.15594482421875]) = 2738.360467\n",
      "- At the generation 0, obtained new best solution f([0.7025146484375, 1.4794921875]) = 97.301266\n",
      "- At the generation 0, obtained new best solution f([0.9271240234375, 0.49346923828125]) = 13.407479\n",
      "- At the generation 4, obtained new best solution f([0.4339599609375, 0.47515869140625]) = 8.547973\n",
      "- At the generation 6, obtained new best solution f([0.5413818359375, 0.56365966796875]) = 7.530893\n",
      "- At the generation 7, obtained new best solution f([0.5413818359375, 0.4852294921875]) = 3.901924\n",
      "- At the generation 7, obtained new best solution f([0.2288818359375, 0.16571044921875]) = 1.878846\n",
      "- At the generation 8, obtained new best solution f([0.3045654296875, 0.17303466796875]) = 1.128030\n",
      "- At the generation 9, obtained new best solution f([0.3045654296875, 0.1727294921875]) = 1.123140\n",
      "- At the generation 10, obtained new best solution f([0.77392578125, 0.6048583984375]) = 0.054587\n",
      "- At the generation 20, obtained new best solution f([0.880126953125, 0.758056640625]) = 0.041815\n",
      "- At the generation 21, obtained new best solution f([0.88043212890625, 0.77789306640625]) = 0.015043\n",
      "- At the generation 36, obtained new best solution f([0.90850830078125, 0.8319091796875]) = 0.012624\n",
      "- At the generation 36, obtained new best solution f([0.9149169921875, 0.836181640625]) = 0.007319\n",
      "- At the generation 105, obtained new best solution f([0.9857177734375, 0.977783203125]) = 0.003978\n",
      "- At the generation 257, obtained new best solution f([0.97503662109375, 0.94818115234375]) = 0.001256\n",
      "- At the generation 1206, obtained new best solution f([0.97930908203125, 0.95947265625]) = 0.000446\n",
      "- At the generation 1972, obtained new best solution f([1.00677490234375, 1.01470947265625]) = 0.000170\n",
      "- At the generation 1974, obtained new best solution f([1.0064697265625, 1.01409912109375]) = 0.000167\n",
      "- At the generation 1980, obtained new best solution f([0.99945068359375, 0.99853515625]) = 0.000014\n",
      "- At the generation 3770, obtained new best solution f([0.9991455078125, 0.99853515625]) = 0.000007\n",
      "Done!\n",
      "f([0.9991455078125, 0.99853515625]) = 0.000007\n"
     ]
    }
   ],
   "source": [
    "\n",
    "best, score = binary_coded_GA(rosenbrock, ROSEN_BOUNDS, ROSEN_BITS, ROSEN_ITER, ROSEN_POP, ROSEN_CROSS, ROSEN_MUT)\n",
    "print('Done!')\n",
    "decoded = decode(ROSEN_BOUNDS, ROSEN_BITS, best)\n",
    "print('f(%s) = %f' % (decoded, score))\n"
   ]
  },
  {
   "cell_type": "code",
   "execution_count": null,
   "metadata": {},
   "outputs": [],
   "source": []
  },
  {
   "cell_type": "markdown",
   "metadata": {},
   "source": [
    "**Step 6.** Since rosenbrock works quite well, now we can run the objective function:"
   ]
  },
  {
   "cell_type": "code",
   "execution_count": 9,
   "metadata": {},
   "outputs": [
    {
     "name": "stdout",
     "output_type": "stream",
     "text": [
      "- At the generation 2, obtained new best solution f([4.96875, 2.015625]) = -36.440186\n",
      "- At the generation 3, obtained new best solution f([4.96875, 1.015625]) = -39.377686\n",
      "- At the generation 12, obtained new best solution f([4.984375, 1.078125]) = -39.414062\n",
      "- At the generation 19, obtained new best solution f([4.984375, 1.015625]) = -39.657227\n",
      "- At the generation 40, obtained new best solution f([4.984375, 1.0]) = -39.719238\n",
      "Done!\n",
      "f([4.984375, 1.0]) = -39.719238\n"
     ]
    }
   ],
   "source": [
    "# perform the genetic algorithm search\n",
    "best, score = binary_coded_GA(f, OBJ_BOUNDS, OBJ_BITS, OBJ_ITER, OBJ_POP, OBJ_CROSS, OBJ_MUT)\n",
    "print('Done!')\n",
    "decoded = decode(OBJ_BOUNDS, OBJ_BITS, best)\n",
    "print('f(%s) = %f' % (decoded, score))"
   ]
  },
  {
   "cell_type": "code",
   "execution_count": null,
   "metadata": {},
   "outputs": [],
   "source": []
  },
  {
   "cell_type": "markdown",
   "metadata": {},
   "source": [
    "## Task2 and Task3 Real-Coded Genetic Algorithm for continuous function ##"
   ]
  },
  {
   "cell_type": "markdown",
   "metadata": {},
   "source": [
    "**Step1.** at the beginning we define new function and constraints for rcga algorithm"
   ]
  },
  {
   "cell_type": "code",
   "execution_count": null,
   "metadata": {},
   "outputs": [],
   "source": []
  },
  {
   "cell_type": "code",
   "execution_count": null,
   "metadata": {},
   "outputs": [],
   "source": []
  },
  {
   "cell_type": "code",
   "execution_count": null,
   "metadata": {},
   "outputs": [],
   "source": []
  },
  {
   "cell_type": "code",
   "execution_count": null,
   "metadata": {},
   "outputs": [],
   "source": []
  },
  {
   "cell_type": "code",
   "execution_count": null,
   "metadata": {},
   "outputs": [],
   "source": []
  },
  {
   "cell_type": "code",
   "execution_count": null,
   "metadata": {},
   "outputs": [],
   "source": []
  }
 ],
 "metadata": {
  "kernelspec": {
   "display_name": "Python 3",
   "language": "python",
   "name": "python3"
  },
  "language_info": {
   "codemirror_mode": {
    "name": "ipython",
    "version": 3
   },
   "file_extension": ".py",
   "mimetype": "text/x-python",
   "name": "python",
   "nbconvert_exporter": "python",
   "pygments_lexer": "ipython3",
   "version": "3.8.5"
  }
 },
 "nbformat": 4,
 "nbformat_minor": 4
}
