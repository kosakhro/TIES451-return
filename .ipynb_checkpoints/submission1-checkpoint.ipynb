{
 "cells": [
  {
   "cell_type": "markdown",
   "metadata": {},
   "source": [
    "# TIES451 course. Programming assignment 1 #"
   ]
  },
  {
   "cell_type": "markdown",
   "metadata": {},
   "source": [
    "Konstantin Sakharovskiy. Sources used:\n",
    " - Lecture slides\n",
    " - Recommended papers\n",
    " - Several open-source GA implementations"
   ]
  },
  {
   "cell_type": "markdown",
   "metadata": {},
   "source": [
    "## Task1 binary-coded Genetic Algorithm for continuous function ##"
   ]
  },
  {
   "cell_type": "markdown",
   "metadata": {},
   "source": [
    "**Step 1.** - make all required imports, defining functions and constraints "
   ]
  },
  {
   "cell_type": "code",
   "execution_count": 1,
   "metadata": {},
   "outputs": [],
   "source": [
    "# - random integer to generate initial population and select genes in crossover\n",
    "# - random real to handle mutation and crossover probability\n",
    "\n",
    "from numpy.random import randint\n",
    "from numpy.random import rand\n",
    "\n",
    "# objective function\n",
    "def f(x):\n",
    "    return x[0] + x[1] - 2 * x[0] ** 2 - x[1] ** 2 + (x[0] * x[1])\n",
    "\n",
    "#  Rosenbrock function for testing the algorithm, (optima = 0 at [1,1])\n",
    "def rosenbrock(x):\n",
    "    return 100 * ((x[1] - x[0] ** 2)) ** 2 + (1 - x[0]) ** 2 \n",
    "\n",
    "# define range for input\n",
    "OBJ_BOUNDS = [[1.0, 5.0], [1.0, 5.0]]\n",
    "ROSEN_BOUNDS = [[-10.0, 10.0], [-10.0, 10.0]]\n",
    "\n",
    "# define the total iterations\n",
    "OBJ_ITER = 50\n",
    "ROSEN_ITER = 5000 # It has been determined by experience that this function requires more iterations\n",
    "\n",
    "# bits per variable\n",
    "OBJ_BITS = 8\n",
    "ROSEN_BITS = 16\n",
    "\n",
    "# define the population size\n",
    "OBJ_POP = 10\n",
    "ROSEN_POP = 20\n",
    "\n",
    "# crossover rate\n",
    "OBJ_CROSS = 0.8\n",
    "ROSEN_CROSS = 0.8\n",
    "\n",
    "# mutation rate\n",
    "OBJ_MUT = 0.06\n",
    "ROSEN_MUT = 0.06"
   ]
  },
  {
   "cell_type": "markdown",
   "metadata": {},
   "source": [
    "**Step 2.** Given that the optimizing functions are in real numbers and the algorithm\n",
    "encodes in binary, we need an auxiliary decoding function (not needed in differential evolution)"
   ]
  },
  {
   "cell_type": "code",
   "execution_count": 2,
   "metadata": {},
   "outputs": [],
   "source": [
    "def decode(bounds, n_bits, bitstring):\n",
    "    decoded = list()\n",
    "    largest = 2**n_bits\n",
    "    for i in range(len(bounds)):\n",
    "        # extract the substring\n",
    "        start, end = i * n_bits, (i * n_bits)+n_bits\n",
    "        substring = bitstring[start:end]\n",
    "        # convert bitstring to a string of chars\n",
    "        chars = ''.join([str(s) for s in substring])\n",
    "        # convert string to integer\n",
    "        integer = int(chars, 2)\n",
    "        # scale integer to desired range\n",
    "        value = bounds[i][0] + (integer/largest) * (bounds[i][1] - bounds[i][0])\n",
    "        # store\n",
    "        decoded.append(value)\n",
    "    return decoded\n"
   ]
  },
  {
   "cell_type": "markdown",
   "metadata": {},
   "source": [
    "\n",
    "**Step 3.** code all necessary steps in the Evolutionary Generational Cycle:\n",
    "\n",
    "Selection -> Crossover -> Mutation -> Evaluation (replacement)"
   ]
  },
  {
   "cell_type": "code",
   "execution_count": 3,
   "metadata": {},
   "outputs": [],
   "source": [
    "def evaluation(gen, pop, decoded, scores, best, best_eval):\n",
    "    for i in range(len(pop)):\n",
    "        if scores[i] < best_eval:\n",
    "            best, best_eval = pop[i], scores[i]\n",
    "            print(\"- At the generation %d, obtained new best solution f(%s) = %f\" % (gen,  decoded[i], scores[i]))\n",
    "    return best, best_eval"
   ]
  },
  {
   "cell_type": "code",
   "execution_count": 4,
   "metadata": {},
   "outputs": [],
   "source": [
    "def selection(pop, scores):\n",
    "    # first random selection\n",
    "    selection_ix = randint(len(pop))\n",
    "    for ix in randint(0, len(pop), 2):\n",
    "        # check if better (e.g. perform a tournament)\n",
    "        if scores[ix] < scores[selection_ix]:\n",
    "            selection_ix = ix\n",
    "    return pop[selection_ix]"
   ]
  },
  {
   "cell_type": "code",
   "execution_count": 5,
   "metadata": {},
   "outputs": [],
   "source": [
    "def crossover(p1, p2, r_cross):\n",
    "    # children are copies of parents by default\n",
    "    c1, c2 = p1.copy(), p2.copy()\n",
    "    # check for recombination\n",
    "    if rand() < r_cross:\n",
    "        # select crossover point that is not on the end of the string\n",
    "        pt = randint(1, len(p1)-2)\n",
    "        # perform crossover\n",
    "        c1 = p1[:pt] + p2[pt:]\n",
    "        c2 = p2[:pt] + p1[pt:]\n",
    "    return [c1, c2]"
   ]
  },
  {
   "cell_type": "code",
   "execution_count": 6,
   "metadata": {},
   "outputs": [],
   "source": [
    "def mutation(bitstring, r_mut):\n",
    "    for i in range(len(bitstring)):\n",
    "        # check for a mutation\n",
    "        if rand() < r_mut:\n",
    "            # flip the bit\n",
    "            bitstring[i] = 1 - bitstring[i]\n",
    "    return bitstring"
   ]
  },
  {
   "cell_type": "markdown",
   "metadata": {},
   "source": [
    "**Step 4.** combine all in binary-coded ganetic algoritm"
   ]
  },
  {
   "cell_type": "code",
   "execution_count": 7,
   "metadata": {},
   "outputs": [],
   "source": [
    "def binary_coded_GA(f, bounds, n_bits, n_iter, n_pop, r_cross, r_mut):\n",
    "    \n",
    "    # initial population of random bitstring\n",
    "    pop = [randint(0, 2, n_bits*len(bounds)).tolist() for _ in range(n_pop)]\n",
    "    \n",
    "\n",
    "    # keep track of best solution\n",
    "    best, best_eval = 0, f(decode(bounds, n_bits, pop[0]))\n",
    "    \n",
    "    # enumerate generations\n",
    "    for gen in range(n_iter):\n",
    "        # decode population\n",
    "        decoded = [decode(bounds, n_bits, p) for p in pop]\n",
    "        # evaluate all candidates in the population\n",
    "        scores = [f(d) for d in decoded]\n",
    "        \n",
    "        # check for new best solution\n",
    "        best, best_eval = evaluation(gen, pop, decoded, scores, best, best_eval)\n",
    "        \n",
    "\n",
    "        # select parents\n",
    "        selected = [selection(pop, scores) for _ in range(n_pop)]\n",
    "        # create the next generation\n",
    "        children = list()\n",
    "        for i in range(0, n_pop, 2):\n",
    "            # get selected parents in pairs\n",
    "            p1, p2 = selected[i], selected[i+1]\n",
    "            # crossover and mutation\n",
    "            for c in crossover(p1, p2, r_cross):\n",
    "                # mutation\n",
    "                c = mutation(c, r_mut)\n",
    "                # store for next generation\n",
    "                children.append(c)\n",
    "        # replace population\n",
    "        pop = children\n",
    "    return [best, best_eval]\n"
   ]
  },
  {
   "cell_type": "markdown",
   "metadata": {},
   "source": [
    "**Step 5.**  run the test Rosenbrock function search to check algorithm's reliability"
   ]
  },
  {
   "cell_type": "code",
   "execution_count": 23,
   "metadata": {},
   "outputs": [
    {
     "name": "stdout",
     "output_type": "stream",
     "text": [
      "- At the generation 0, obtained new best solution f([2.352294921875, 6.72821044921875]) = 144.611855\n",
      "- At the generation 0, obtained new best solution f([2.17254638671875, 4.5819091796875]) = 3.280607\n",
      "- At the generation 1, obtained new best solution f([2.10968017578125, 4.3743896484375]) = 1.814487\n",
      "- At the generation 1, obtained new best solution f([2.1331787109375, 4.5867919921875]) = 1.416158\n",
      "- At the generation 3, obtained new best solution f([1.297607421875, 1.6009521484375]) = 0.774699\n",
      "- At the generation 4, obtained new best solution f([1.297607421875, 1.70623779296875]) = 0.138983\n",
      "- At the generation 170, obtained new best solution f([0.9600830078125, 0.91888427734375]) = 0.002420\n",
      "- At the generation 577, obtained new best solution f([1.00830078125, 1.01226806640625]) = 0.002007\n",
      "- At the generation 597, obtained new best solution f([0.9783935546875, 0.95977783203125]) = 0.001104\n",
      "- At the generation 601, obtained new best solution f([1.01776123046875, 1.03759765625]) = 0.000625\n",
      "- At the generation 1807, obtained new best solution f([0.99945068359375, 0.997314453125]) = 0.000252\n",
      "Done!\n",
      "f([0.99945068359375, 0.997314453125]) = 0.000252\n"
     ]
    }
   ],
   "source": [
    "\n",
    "best, score = binary_coded_GA(rosenbrock, ROSEN_BOUNDS, ROSEN_BITS, ROSEN_ITER, ROSEN_POP, ROSEN_CROSS, ROSEN_MUT)\n",
    "print('Done!')\n",
    "decoded = decode(ROSEN_BOUNDS, ROSEN_BITS, best)\n",
    "print('f(%s) = %f' % (decoded, score))\n"
   ]
  },
  {
   "cell_type": "code",
   "execution_count": null,
   "metadata": {},
   "outputs": [],
   "source": []
  },
  {
   "cell_type": "markdown",
   "metadata": {},
   "source": [
    "**Step 6.** Since rosenbrock works quite well, now we can run the objective function:"
   ]
  },
  {
   "cell_type": "code",
   "execution_count": 9,
   "metadata": {
    "scrolled": true
   },
   "outputs": [
    {
     "name": "stdout",
     "output_type": "stream",
     "text": [
      "- At the generation 0, obtained new best solution f([4.8125, 2.421875]) = -33.296143\n",
      "- At the generation 2, obtained new best solution f([4.8125, 4.640625]) = -36.069580\n",
      "- At the generation 9, obtained new best solution f([4.828125, 1.171875]) = -36.336914\n",
      "- At the generation 9, obtained new best solution f([4.953125, 4.171875]) = -36.682617\n",
      "- At the generation 10, obtained new best solution f([4.890625, 1.171875]) = -37.416016\n",
      "- At the generation 11, obtained new best solution f([4.953125, 1.140625]) = -38.624512\n",
      "- At the generation 13, obtained new best solution f([4.953125, 1.015625]) = -39.099121\n",
      "- At the generation 16, obtained new best solution f([4.984375, 1.015625]) = -39.657227\n",
      "- At the generation 20, obtained new best solution f([4.984375, 1.0]) = -39.719238\n",
      "Done!\n",
      "f([4.984375, 1.0]) = -39.719238\n"
     ]
    }
   ],
   "source": [
    "# perform the genetic algorithm search\n",
    "best, score = binary_coded_GA(f, OBJ_BOUNDS, OBJ_BITS, OBJ_ITER, OBJ_POP, OBJ_CROSS, OBJ_MUT)\n",
    "print('Done!')\n",
    "decoded = decode(OBJ_BOUNDS, OBJ_BITS, best)\n",
    "print('f(%s) = %f' % (decoded, score))"
   ]
  },
  {
   "cell_type": "code",
   "execution_count": null,
   "metadata": {},
   "outputs": [],
   "source": []
  },
  {
   "cell_type": "markdown",
   "metadata": {},
   "source": [
    "## Task2 and Task3 Real-Coded Genetic Algorithm for continuous function ##"
   ]
  },
  {
   "cell_type": "markdown",
   "metadata": {},
   "source": [
    "**Step1.** at the beginning we define new function and constraints for rcga algorithm"
   ]
  },
  {
   "cell_type": "code",
   "execution_count": 10,
   "metadata": {},
   "outputs": [],
   "source": [
    "import random as rng\n",
    "from numpy import pi, cos\n"
   ]
  },
  {
   "cell_type": "code",
   "execution_count": 11,
   "metadata": {},
   "outputs": [],
   "source": [
    "def rcga_f(x):\n",
    "    return x[0] + x[1] # that's simple\n",
    "\n",
    "def constr_1(x):\n",
    "    return (x[1] - ((5.1 * x[0] ** 2) / (4 * pi ** 2)) + ((5 * x[0]) / pi) - 6) ** 2 + ((10 - (10 / (8 * pi))) * cos(x[0])) + 9\n",
    "\n",
    "def constr_2(x):\n",
    "    return x[1] + (x[0] - 12) / 1.2\n",
    "\n",
    "\n",
    "RCGA_ITER = 5000\n",
    "RCGA_PROB_CROSSOVER = 0.8\n",
    "RCGA_PROB_MUTATION = 0.06\n",
    "RCGA_POPULATION_SIZE = 100\n",
    "RF_BOUNDS = [[-5.0, 10.0], [0.0, 15.0]]"
   ]
  },
  {
   "cell_type": "markdown",
   "metadata": {},
   "source": [
    "**Step2.** Redefine the necessary elements of the algorithm, not forgetting to include constraint handling"
   ]
  },
  {
   "cell_type": "code",
   "execution_count": 12,
   "metadata": {},
   "outputs": [],
   "source": [
    "def rcga_selection(pop, scores):\n",
    "    # first random selection\n",
    "    selection_ix = randint(len(pop))\n",
    "    for ix in randint(0, len(pop), 2):\n",
    "        # check if better (e.g. perform a tournament)\n",
    "        if scores[ix] < scores[selection_ix]:\n",
    "            selection_ix = ix\n",
    "    return pop[selection_ix]"
   ]
  },
  {
   "cell_type": "code",
   "execution_count": 13,
   "metadata": {},
   "outputs": [],
   "source": [
    "def rcga_crossover(p1, p2, r_cross, alpha=0.1):\n",
    "    # children are copies of parents by default\n",
    "    c1, c2 = p1.copy(), p2.copy()\n",
    "    # check for initiate blend crossover\n",
    "    if rand() < r_cross:\n",
    "        for i in range(len(p1)):\n",
    "            dist = abs(c2[i]-c1[i])\n",
    "            l = min(c1[i],c2[i]) - alpha * dist\n",
    "            u = max(c1[i],c2[i]) + alpha * dist\n",
    "            c1[i] = l + rng.random() * (u-l)\n",
    "            c2[i] = l + rng.random() * (u-l)\n",
    "        \n",
    "    return [c1, c2]"
   ]
  },
  {
   "cell_type": "code",
   "execution_count": 14,
   "metadata": {},
   "outputs": [],
   "source": [
    "def rcga_mutation(c, r_mut):\n",
    "    if rand() < r_mut:\n",
    "        # choose mutation parameters uniformly\n",
    "        c = [rng.uniform(-5, 10), rng.uniform(0, 15)]\n",
    "    return c"
   ]
  },
  {
   "cell_type": "code",
   "execution_count": 15,
   "metadata": {},
   "outputs": [],
   "source": [
    "def rcga_evaluation(gen, pop, scores, best, best_eval):\n",
    "    for i in range(len(pop)):\n",
    "        if scores[i] < best_eval:\n",
    "            best, best_eval = pop[i], scores[i]\n",
    "            print(\"- At the generation %d, obtained new best solution f(%s) = %f\" % (gen,  pop[i], scores[i]))\n",
    "    return best, best_eval\n",
    "\n",
    "\n",
    "\n"
   ]
  },
  {
   "cell_type": "code",
   "execution_count": 16,
   "metadata": {},
   "outputs": [],
   "source": [
    "# fitness function is the same as objective function\n",
    "# also use different type of constaraints handling\n",
    "def rcga_fitness(pop, penalty, gen):\n",
    "    '''\n",
    "    with the death penalty approach, I was unable to \n",
    "    maintain population control. I implemented a similar approach as here \n",
    "    https://esa.github.io/pygmo/tutorials/death_penalty.html\n",
    "    except that instead of the maximum value of the number in the system \n",
    "    I just took a very large number. Although this has ceased to be different\n",
    "    from the static Kuri's approach.\n",
    "    \n",
    "    with dynamic penalty I had to do a little trick - due to the fact \n",
    "    that the first generations were not severely punished for violating \n",
    "    the restrictions, violators almost always won. I added a small constant\n",
    "    to Joines and Houck formula for fairness \n",
    "    '''\n",
    "\n",
    "    C = .5\n",
    "    t = gen\n",
    "    alpha = 2\n",
    "    beta = 2\n",
    "    \n",
    "    first_term = (C * t) ** alpha \n",
    "    \n",
    "    \n",
    "    new_pop = pop\n",
    "    scores = list()\n",
    "    for i in range(len(new_pop)):\n",
    "\n",
    "        if constr_satisf(pop[i]): # or penalty == 'death':\n",
    "            scores.append(rcga_f(new_pop[i]))\n",
    "        elif penalty == 'death':\n",
    "            scores.append(10**15)\n",
    "            #print(scores) \n",
    "        elif penalty == 'static':\n",
    "            scores.append(10**9 - sum([10**9 / 2 for _ in range(constr_passed(new_pop[i]))]))\n",
    "            #scores.append(rcga_f(new_pop[i]))\n",
    "        elif penalty == 'dynamic':\n",
    "            D_1 = 0 if constr_1(new_pop[i]) <= 0 else abs(constr_1(new_pop[i])) ** beta\n",
    "            D_2 = 0 if constr_2(new_pop[i]) <= 0 else abs(constr_2(new_pop[i])) ** beta\n",
    "            SVC = D_1 + D_2    \n",
    "            scores.append(rcga_f(new_pop[i]) + first_term * SVC + 10 ** 2)\n",
    "\n",
    "    \n",
    "    return scores, new_pop"
   ]
  },
  {
   "cell_type": "code",
   "execution_count": 17,
   "metadata": {},
   "outputs": [],
   "source": [
    "# Returns the member matchs all the criteria \n",
    "def constr_satisf(x):\n",
    "    first_con = constr_1(x)\n",
    "    second_con = constr_2(x)\n",
    "    #print(\"value: \", x, \"yden \" , first_con, \"dva\", second_con)\n",
    "    if constr_1(x) <= 0 and constr_2(x) <= 0:\n",
    "        return True\n",
    "    else:\n",
    "        return False\n"
   ]
  },
  {
   "cell_type": "code",
   "execution_count": 18,
   "metadata": {},
   "outputs": [],
   "source": [
    "# Returns the matching criteria amount \n",
    "def constr_passed(x):\n",
    "    matches = 0\n",
    "    if constr_1(x) <= 0:\n",
    "        matches += 1\n",
    "    if constr_2(x) <= 0:\n",
    "        matches += 1\n",
    "    return matches"
   ]
  },
  {
   "cell_type": "code",
   "execution_count": 19,
   "metadata": {},
   "outputs": [],
   "source": [
    "def real_coded_GA(f, bounds, n_iter, n_pop, r_cross, r_mut, penalty):\n",
    "    \n",
    "    # initial population of random real values within constraints  \n",
    "    pop = [[rng.uniform(-5, 10), rng.uniform(0, 15)] for i in range(n_pop)]\n",
    "    #print(pop)\n",
    "    \n",
    "    # keep track of best solution\n",
    "    best, best_eval = 0, rcga_f(pop[0])\n",
    "    \n",
    "    \n",
    "    # enumerate generations\n",
    "    for gen in range(n_iter):\n",
    "\n",
    "        # evaluate all candidates in the population\n",
    "        # Constraint handling done in scores\n",
    "        scores = list()\n",
    "        scores, pop = rcga_fitness(pop, penalty, gen)\n",
    "        #print(scores)\n",
    "        \n",
    "        # check for new best solution\n",
    "        \n",
    "\n",
    "        best, best_eval = rcga_evaluation(gen, pop, scores, best, best_eval)\n",
    "        \n",
    "\n",
    "        # select parents\n",
    "        selected = [rcga_selection(pop, scores) for _ in range(n_pop)]\n",
    "        # create the next generation\n",
    "        children = list()\n",
    "        for i in range(0, n_pop, 2):\n",
    "            # get selected parents in pairs\n",
    "            p1, p2 = selected[i], selected[i+1]\n",
    "            # crossover and mutation\n",
    "            for c in rcga_crossover(p1, p2, r_cross):\n",
    "                # mutation\n",
    "                c = rcga_mutation(c, r_mut)\n",
    "                # store for next generation\n",
    "                children.append(c)\n",
    "        # replace population\n",
    "        pop = children\n",
    "    return [best, best_eval]"
   ]
  },
  {
   "cell_type": "markdown",
   "metadata": {},
   "source": [
    "**Step 3.** Run with different constraint handling methods"
   ]
  },
  {
   "cell_type": "markdown",
   "metadata": {},
   "source": [
    "***a)*** death penalty"
   ]
  },
  {
   "cell_type": "code",
   "execution_count": 20,
   "metadata": {},
   "outputs": [
    {
     "name": "stdout",
     "output_type": "stream",
     "text": [
      "- At the generation 0, obtained new best solution f([3.1217279285412385, 2.3405170414046643]) = 5.462245\n",
      "- At the generation 0, obtained new best solution f([2.9808847826018763, 2.2038628349351077]) = 5.184748\n",
      "- At the generation 2, obtained new best solution f([3.200314126489128, 1.7601944411230936]) = 4.960509\n",
      "- At the generation 5, obtained new best solution f([3.132404459926079, 1.6103163114870664]) = 4.742721\n",
      "- At the generation 9, obtained new best solution f([3.1948579018866408, 1.5140306834424424]) = 4.708889\n",
      "- At the generation 21, obtained new best solution f([2.9732787614473, 1.7321587083232728]) = 4.705437\n",
      "- At the generation 25, obtained new best solution f([2.995372351597655, 1.7066687412542394]) = 4.702041\n",
      "- At the generation 26, obtained new best solution f([2.994239213397707, 1.706770006982758]) = 4.701009\n",
      "- At the generation 384, obtained new best solution f([3.1817719433074707, 1.5020370166957648]) = 4.683809\n",
      "- At the generation 4476, obtained new best solution f([3.000623030161726, 1.6823939564980788]) = 4.683017\n",
      "- At the generation 4480, obtained new best solution f([2.9957459186156306, 1.6866304905641443]) = 4.682376\n"
     ]
    },
    {
     "data": {
      "text/plain": [
       "[[2.9957459186156306, 1.6866304905641443], 4.682376409179775]"
      ]
     },
     "execution_count": 20,
     "metadata": {},
     "output_type": "execute_result"
    }
   ],
   "source": [
    "real_coded_GA(rcga_f, RF_BOUNDS, RCGA_ITER, RCGA_POPULATION_SIZE, RCGA_PROB_CROSSOVER, RCGA_PROB_MUTATION, 'death')"
   ]
  },
  {
   "cell_type": "markdown",
   "metadata": {},
   "source": [
    "***b)*** Static introdused by Kuri"
   ]
  },
  {
   "cell_type": "code",
   "execution_count": 21,
   "metadata": {},
   "outputs": [
    {
     "name": "stdout",
     "output_type": "stream",
     "text": [
      "- At the generation 2, obtained new best solution f([3.1858258207649772, 2.837098012518417]) = 6.022924\n",
      "- At the generation 3, obtained new best solution f([3.0101803796942437, 2.9013714823760783]) = 5.911552\n",
      "- At the generation 4, obtained new best solution f([3.4311067457240805, 2.1114315644912796]) = 5.542538\n",
      "- At the generation 5, obtained new best solution f([2.875560586962239, 2.0370714408896085]) = 4.912632\n",
      "- At the generation 236, obtained new best solution f([2.9067744258617534, 1.9785246582787024]) = 4.885299\n",
      "- At the generation 818, obtained new best solution f([3.2385274981328127, 1.5739689083579722]) = 4.812496\n",
      "- At the generation 1015, obtained new best solution f([3.133419661441568, 1.5300333228961054]) = 4.663453\n",
      "- At the generation 1150, obtained new best solution f([3.1785913688242857, 1.4790508283192088]) = 4.657642\n"
     ]
    },
    {
     "data": {
      "text/plain": [
       "[[3.1785913688242857, 1.4790508283192088], 4.6576421971434945]"
      ]
     },
     "execution_count": 21,
     "metadata": {},
     "output_type": "execute_result"
    }
   ],
   "source": [
    "real_coded_GA(rcga_f, RF_BOUNDS, RCGA_ITER, RCGA_POPULATION_SIZE, RCGA_PROB_CROSSOVER, RCGA_PROB_MUTATION, 'static')"
   ]
  },
  {
   "cell_type": "markdown",
   "metadata": {},
   "source": [
    "***c)*** Dynamic introduced by Joines and Houck "
   ]
  },
  {
   "cell_type": "code",
   "execution_count": 22,
   "metadata": {},
   "outputs": [
    {
     "name": "stdout",
     "output_type": "stream",
     "text": [
      "- At the generation 2, obtained new best solution f([3.063825099669639, 1.975608822323408]) = 5.039434\n",
      "- At the generation 4, obtained new best solution f([2.91213733144639, 2.108896873847878]) = 5.021034\n",
      "- At the generation 4, obtained new best solution f([3.1211118233143393, 1.5214842616704556]) = 4.642596\n",
      "- At the generation 11, obtained new best solution f([3.094584296652281, 1.5446772850458845]) = 4.639262\n",
      "- At the generation 13, obtained new best solution f([3.1111858818061258, 1.526872586698208]) = 4.638058\n",
      "- At the generation 14, obtained new best solution f([3.1060733919444026, 1.5308549675693515]) = 4.636928\n",
      "- At the generation 19, obtained new best solution f([3.1071894312554926, 1.5297261249916685]) = 4.636916\n",
      "- At the generation 22, obtained new best solution f([3.1059301888993347, 1.5309751684773012]) = 4.636905\n",
      "- At the generation 22, obtained new best solution f([3.107559129964596, 1.5293460815857987]) = 4.636905\n",
      "- At the generation 23, obtained new best solution f([3.1068898633554864, 1.5300027879421592]) = 4.636893\n",
      "- At the generation 28, obtained new best solution f([3.1064171619782526, 1.53047542743014]) = 4.636893\n",
      "- At the generation 29, obtained new best solution f([3.106431167133554, 1.5304591599849016]) = 4.636890\n",
      "- At the generation 31, obtained new best solution f([3.106608743324129, 1.5302773479308545]) = 4.636886\n",
      "- At the generation 34, obtained new best solution f([3.1066378964705743, 1.530248061362804]) = 4.636886\n",
      "- At the generation 36, obtained new best solution f([3.106639770134992, 1.5302457360992847]) = 4.636886\n",
      "- At the generation 37, obtained new best solution f([3.1066380581580844, 1.530247103107474]) = 4.636885\n",
      "- At the generation 45, obtained new best solution f([3.10663484200462, 1.5302503055873453]) = 4.636885\n",
      "- At the generation 48, obtained new best solution f([3.1066344897275666, 1.530250652302464]) = 4.636885\n",
      "- At the generation 53, obtained new best solution f([3.106634565501318, 1.530250575920871]) = 4.636885\n",
      "- At the generation 53, obtained new best solution f([3.106634518591182, 1.5302506228043202]) = 4.636885\n",
      "- At the generation 55, obtained new best solution f([3.1066346105123483, 1.5302505299849998]) = 4.636885\n",
      "- At the generation 61, obtained new best solution f([3.1066346059266863, 1.5302505344612058]) = 4.636885\n"
     ]
    },
    {
     "data": {
      "text/plain": [
       "[[3.1066346059266863, 1.5302505344612058], 4.636885140387892]"
      ]
     },
     "execution_count": 22,
     "metadata": {},
     "output_type": "execute_result"
    }
   ],
   "source": [
    "real_coded_GA(rcga_f, RF_BOUNDS, RCGA_ITER, RCGA_POPULATION_SIZE, RCGA_PROB_CROSSOVER, RCGA_PROB_MUTATION, 'dynamic')"
   ]
  },
  {
   "cell_type": "code",
   "execution_count": null,
   "metadata": {},
   "outputs": [],
   "source": []
  },
  {
   "cell_type": "code",
   "execution_count": null,
   "metadata": {},
   "outputs": [],
   "source": []
  }
 ],
 "metadata": {
  "kernelspec": {
   "display_name": "Python 3",
   "language": "python",
   "name": "python3"
  },
  "language_info": {
   "codemirror_mode": {
    "name": "ipython",
    "version": 3
   },
   "file_extension": ".py",
   "mimetype": "text/x-python",
   "name": "python",
   "nbconvert_exporter": "python",
   "pygments_lexer": "ipython3",
   "version": "3.8.5"
  }
 },
 "nbformat": 4,
 "nbformat_minor": 4
}
